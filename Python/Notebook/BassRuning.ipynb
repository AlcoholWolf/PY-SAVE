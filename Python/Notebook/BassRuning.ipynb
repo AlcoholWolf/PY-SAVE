{
  "nbformat": 4,
  "nbformat_minor": 0,
  "metadata": {
    "colab": {
      "name": "BassRuning",
      "provenance": [],
      "collapsed_sections": [
        "QxPX0eG1KfVp",
        "cng-1-hYKnA4",
        "sgqO3wYWU7ur",
        "qzccO3NfVL8a",
        "Nlk3wu5Ka4ZQ",
        "0Zsd27H-d9jB",
        "ZzX-OODKXiBc",
        "CWfoOhbfZVjA"
      ],
      "toc_visible": true
    },
    "kernelspec": {
      "name": "python3",
      "display_name": "Python 3"
    },
    "language_info": {
      "name": "python"
    }
  },
  "cells": [
    {
      "cell_type": "markdown",
      "source": [
        "# Bagic Setting"
      ],
      "metadata": {
        "id": "QxPX0eG1KfVp"
      }
    },
    {
      "cell_type": "markdown",
      "source": [
        "### 1-1  import Setting"
      ],
      "metadata": {
        "id": "cng-1-hYKnA4"
      }
    },
    {
      "cell_type": "markdown",
      "source": [
        "> **라이브러리**\n",
        "\n",
        "```\n",
        "import random                                # 랜덤\n",
        "import time                                  # 타임\n",
        "import calendar                              # 달력\n",
        "import os                                    # 상대적 경로\n",
        "import glob                                  # 절대적 경로\n",
        "import numpy as (경로 바인딩)                # 넘파이          # 경로 : np\n",
        "import pandas as (경로 바인딩)               # 판다스          # 경로 : pd\n",
        "import matplotlib.pyplot as (경로 바인딩)    # 메타포트        # 경로 : plt\n",
        "import seaborn as (경로 바인딩)              # 시본            # 경로 : sns\n",
        "\n",
        "```\n",
        "\n",
        "> **프롬 라이브러리**\n",
        "\n",
        "```\n",
        "from sklearn.datasets import load_iris       # 아이리스        # 로드 : sklearn.datasets\n",
        "```"
      ],
      "metadata": {
        "id": "yu5H4bRFK1HZ"
      }
    },
    {
      "cell_type": "code",
      "source": [
        "import random                                # 랜덤\n",
        "import time                                  # 타임\n",
        "import calendar                              # 달력\n",
        "import os                                    # 상대적 경로\n",
        "import glob                                  # 절대적 경로\n",
        "import numpy as np                           # 넘파이          # 경로 : np\n",
        "import pandas as pd                          # 판다스          # 경로 : pd\n",
        "import matplotlib.pyplot as plt              # 메타포트        # 경로 : plt\n",
        "import seaborn as sns                        # 시본            # 경로 : sns\n",
        "\n",
        "from sklearn.datasets import load_iris       # 아이리스        # 로드 : sklearn.datasets"
      ],
      "metadata": {
        "id": "o7Fn-CEdKhMJ"
      },
      "execution_count": null,
      "outputs": []
    },
    {
      "cell_type": "markdown",
      "source": [
        "### 1-2 Bass Setting"
      ],
      "metadata": {
        "id": "sgqO3wYWU7ur"
      }
    },
    {
      "cell_type": "markdown",
      "source": [
        "> **기본 설정**\n",
        "\n",
        "* Deepruning Bass Setting - Data [ List And all ]\n",
        "```\n",
        "#\n",
        "```\n",
        "\n",
        "* Deepruning Bass Setting - Data [ Def And all ] \n",
        "```\n",
        "#\n",
        "```\n",
        "\n",
        "* DataAnalysis Bass Setting - Data [ In - Out And all ]\n",
        "```\n",
        "#\n",
        "```\n",
        "\n",
        "* DataAnalysis Bass Setting - Data [ Numpy And all ] \n",
        "```\n",
        "#\n",
        "```\n",
        "\n",
        "* DataAnalysis Bass Setting - Data [ Matplotib And all ]\n",
        "```\n",
        "plt.rcParams['figure.figsize'] = [12, 8]                 # 출력 크기 (x12 y8)\n",
        "plt.style.use('dark_background')                         # 메타포트 레이아웃 - 검은 바탕\n",
        "sns.set_style(sns.set(color_codes=True))                 # 시본 레이아웃 - 컬러코드\n",
        "```"
      ],
      "metadata": {
        "id": "7q41H0BNQyTN"
      }
    },
    {
      "cell_type": "code",
      "source": [
        "plt.rcParams['figure.figsize'] = [12, 8]                 # 출력 크기 (x12 y8)\n",
        "plt.style.use('dark_background')                         # 메타포트 레이아웃 - 검은 바탕\n",
        "sns.set_style(sns.set(color_codes=True))                 # 시본 레이아웃 - 컬러코드"
      ],
      "metadata": {
        "id": "YwCY7-b-bVNY"
      },
      "execution_count": null,
      "outputs": []
    },
    {
      "cell_type": "markdown",
      "source": [
        "### 1-3 Bug Pix Setting"
      ],
      "metadata": {
        "id": "qzccO3NfVL8a"
      }
    },
    {
      "cell_type": "code",
      "source": [
        ""
      ],
      "metadata": {
        "id": "yWiCZrgYfXUv"
      },
      "execution_count": null,
      "outputs": []
    },
    {
      "cell_type": "markdown",
      "source": [
        "# Python Tree  0 - 1 [ 기본적인 타입의 종류 ]"
      ],
      "metadata": {
        "id": "Nlk3wu5Ka4ZQ"
      }
    },
    {
      "cell_type": "markdown",
      "source": [
        "* 문자열\n",
        "\n",
        "* 숫자열(정수)\n",
        "\n",
        "* 숫자열(실수)\n",
        "\n",
        "* 튜플\n",
        "\n",
        "* 리스트\n",
        "\n",
        "* 딕셔너리\n",
        "\n",
        "* 집합\n",
        "\n",
        "* 변수형\n",
        "\n",
        "```\n",
        "# 문자열 : ''또는 \"\"로 감싸진 형태이며, 안에 [나, ) 등등의 명령문이 들어가도 문자 그대로 출력 * 저장한다\n",
        "str : '뭐요', \"123123\"\n",
        "\n",
        "# 숫자열 : 계산이 가능한 숫자의 형태이다. 함수 계산할때와 비슷하다.\n",
        "#  -정수\n",
        "int : 123, 1111111\n",
        "#  -실수\n",
        "float : 1.1, 0.23\n",
        "\n",
        "# 튜플 : 변환이 불가능한 자료\n",
        "tuple : (123,123)\n",
        "\n",
        "# 리스트 : 변환과 수정 추가가 자유로운 자료\n",
        "list : ['Muyo',123]\n",
        "\n",
        "# 딕셔너리 : 특정 key 값으로 해당하는 value 값을 불러올수 있는 자료\n",
        "dict : {'key':123}\n",
        "\n",
        "# 집합 : 순서와 중복이 없는 자료\n",
        "set : {1,2,3,4,5}\n",
        "\n",
        "# 변수형 : 위 자료, 타입을 특정 문자열에 저장한 자료\n",
        "A = 'gkrltlfgek'\n",
        "```"
      ],
      "metadata": {
        "id": "T49mVSMsbEhv"
      }
    },
    {
      "cell_type": "code",
      "source": [
        ""
      ],
      "metadata": {
        "id": "MPruhaVqbEGH"
      },
      "execution_count": null,
      "outputs": []
    },
    {
      "cell_type": "markdown",
      "source": [
        "# Python Tree  0 - 2 [ 기본적인 명령문 ]"
      ],
      "metadata": {
        "id": "0Zsd27H-d9jB"
      }
    },
    {
      "cell_type": "markdown",
      "source": [
        "* 프린트\n",
        "\n",
        "* 타입\n",
        "\n",
        "* 자료 변환\n",
        "\n",
        "```\n",
        "# 프린트\n",
        "print()\n",
        "print(1)\n",
        "print('123')\n",
        "A = 1+1\n",
        "print(A)\n",
        "\n",
        "# 타입\n",
        "tya = type(A)\n",
        "print(tya)\n",
        "\n",
        "# 자료 변환\n",
        "A = float(A)\n",
        "print(type(A))\n",
        "```"
      ],
      "metadata": {
        "id": "7hoCcvzxeDx4"
      }
    },
    {
      "cell_type": "code",
      "source": [
        ""
      ],
      "metadata": {
        "id": "aE0in46Ee3Jp"
      },
      "execution_count": null,
      "outputs": []
    },
    {
      "cell_type": "markdown",
      "source": [
        "# Python Tree  1 - 1 [ 변수 지정 ]"
      ],
      "metadata": {
        "id": "ZzX-OODKXiBc"
      }
    },
    {
      "cell_type": "markdown",
      "source": [
        "* 변수는 ' = ' 으로 지정합니다.\n",
        "* 대문자, 소문자, 다음에 배울 여러 자료형과 파일이 대상으로 지정될수 있습니다.\n",
        "* 변수가 된 문자열은 그 자체로 튜플 이라는 자료형으로써 적용됩니다.\n",
        "* 파이썬에서 쓰이는 명령문은 변수열로 사용이 불가능하진 않지만 사용을 추천하지 않습니다.\n",
        "* 대문자는 변수열로 사용이 가능하지만, 암묵적으로 소문자를 쓰는걸 권장합니다.\n",
        "\n",
        "```\n",
        "# 변수 지정 - 소문자 a 는 123 입니다.\n",
        "a = 123\n",
        "\n",
        "# 변수 지정 - 대문자 A 는 1234 입니다.\n",
        "A = 1234\n",
        "\n",
        "# 변수 지정 - 문자열 str 은 12345 입니다.\n",
        "str = 12345\n",
        "\n",
        "# 변수 재 지정 - 소문자 a 는 123이 아닌 456 입니다.\n",
        "a = 456\n",
        "\n",
        "# 형식 지정 - ''또는 \"\" 안의 문자는 문자열 이라 부르며 말 그대로 문자열 입니다.\n",
        "ast = '문자열입니다.'\n",
        "asf = \"Atance\"\n",
        "\n",
        "# 기본적으로 변수 지정시 변수는 문자열 str 또는 숫자열 int 가 되지만, 2개 이상의 다른 종류로 할 시 tuple 이 됩니다.\n",
        "# 또한 123이라는 숫자열일도 ''로 감싸면 문자열이 됩니다.\n",
        "kit = (123, '123')\n",
        "```"
      ],
      "metadata": {
        "id": "J3e1NHgTX4fm"
      }
    },
    {
      "cell_type": "code",
      "source": [
        ""
      ],
      "metadata": {
        "id": "3g3agZBvX1gu"
      },
      "execution_count": null,
      "outputs": []
    },
    {
      "cell_type": "markdown",
      "source": [
        "# Python Tree  1 - 2 [ 프린트 명령문 ]"
      ],
      "metadata": {
        "id": "CWfoOhbfZVjA"
      }
    },
    {
      "cell_type": "code",
      "source": [
        ""
      ],
      "metadata": {
        "id": "Td_jCPbSY34H"
      },
      "execution_count": null,
      "outputs": []
    },
    {
      "cell_type": "markdown",
      "source": [
        "# Python Tree  1 - 3 [ 계산식 ]"
      ],
      "metadata": {
        "id": "2amnCMcimSEp"
      }
    },
    {
      "cell_type": "markdown",
      "source": [
        "# Python Tree  2 - 1 [ 리스트 ]"
      ],
      "metadata": {
        "id": "EkxdFi0JmSiQ"
      }
    },
    {
      "cell_type": "markdown",
      "source": [
        "# Python Tree  2 - 2 [ 튜플 ]"
      ],
      "metadata": {
        "id": "YrKwWKAFmS7o"
      }
    },
    {
      "cell_type": "markdown",
      "source": [
        "# Python Tree  2 - 3 [ 집합 ]"
      ],
      "metadata": {
        "id": "_bXsBdRgmTPw"
      }
    },
    {
      "cell_type": "markdown",
      "source": [
        "# Python Tree  2 - 4 [ 딕셔너리 ]"
      ],
      "metadata": {
        "id": "VsditDAkmSoo"
      }
    },
    {
      "cell_type": "markdown",
      "source": [
        "# Python Tree  2 - 5 [ 불 ]"
      ],
      "metadata": {
        "id": "ncajwpLDmt5a"
      }
    },
    {
      "cell_type": "markdown",
      "source": [
        "# Python Tree  3 - 1 [ 함수 ]"
      ],
      "metadata": {
        "id": "Tw3J11F1m5WB"
      }
    },
    {
      "cell_type": "markdown",
      "source": [
        "# Python Tree  3 - 2 [ 반복 포 문 ]"
      ],
      "metadata": {
        "id": "VqiNDD92m90Z"
      }
    },
    {
      "cell_type": "markdown",
      "source": [
        "# Python Tree  3 - 3 [ 반복 웨일 문 ]\n",
        "\n"
      ],
      "metadata": {
        "id": "13RxBol1m-HY"
      }
    },
    {
      "cell_type": "markdown",
      "source": [
        "# Python Tree  3 - 4 [ 조건문 이프 문 ]"
      ],
      "metadata": {
        "id": "tkYcGmdAm-aZ"
      }
    },
    {
      "cell_type": "markdown",
      "source": [
        "# Python Tree  4 - 1 [ 클래스 ]"
      ],
      "metadata": {
        "id": "0_aIoijEm-p6"
      }
    },
    {
      "cell_type": "markdown",
      "source": [
        "# Python Tree  4 - 2 [ 라이브러리 시간 ]\n",
        "\n"
      ],
      "metadata": {
        "id": "saYO74zum-6J"
      }
    },
    {
      "cell_type": "markdown",
      "source": [
        "# Python Tree  4 - 3 [ 라이브러리 랜덤 ]"
      ],
      "metadata": {
        "id": "3wZDgrLJnTMZ"
      }
    },
    {
      "cell_type": "markdown",
      "source": [
        "# Python Tree  5 - 1 [ 데이터 입출력 ]"
      ],
      "metadata": {
        "id": "64bBVKSDniDw"
      }
    },
    {
      "cell_type": "markdown",
      "source": [
        "# Python Tree  5 - 2 [ 넘파이 배열 ]"
      ],
      "metadata": {
        "id": "7rO5j1_uni2R"
      }
    },
    {
      "cell_type": "markdown",
      "source": [
        "# Python Tree  5 - 3 [ 판다스 ]"
      ],
      "metadata": {
        "id": "cM0KS5OSnjKR"
      }
    },
    {
      "cell_type": "markdown",
      "source": [
        "# Python Tree  5 - 4 [ 메타포트 ]"
      ],
      "metadata": {
        "id": "qM8j0SHNnjdp"
      }
    },
    {
      "cell_type": "markdown",
      "source": [
        "### 기본 사용\n",
        "\n",
        "```\n",
        "# Y:1 2 3 4 / X:1 2 3 4 \n",
        "plt.plot([1,2,3,4])\n",
        "\n",
        "# 출력\n",
        "plt.show()\n",
        "\n",
        "# Y:1 2 3 4 / X:2 4 6 8\n",
        "plt.plot([1,2,3,4],[2,4,6,8])\n",
        "\n",
        "# 출력\n",
        "plt.show()\n",
        "```"
      ],
      "metadata": {
        "id": "YQlhsvQZJNkF"
      }
    },
    {
      "cell_type": "markdown",
      "source": [
        "### 바인딩과 함께 사용\n",
        "\n",
        "```\n",
        "bindplt1 = [1,2,3,4]\n",
        "bindplt2 = [1,5,1,5]\n",
        "plt.plot(bindplt1,bindplt2)\n",
        "```\n"
      ],
      "metadata": {
        "id": "uqwfeO5bKfTA"
      }
    },
    {
      "cell_type": "markdown",
      "source": [
        "### 스타일 지정하기\n",
        "\n",
        "```\n",
        "# ro : 구 형태의 점으로 이루어진 그래프\n",
        "# axis : Y : 0~6 X : 0~20\n",
        "plt.plot([1, 2, 3, 4], [1, 4, 9, 16], 'ro')\n",
        "plt.axis([0, 6, 0, 20])\n",
        "plt.show()\n",
        "```"
      ],
      "metadata": {
        "id": "OZWZiSjLPteR"
      }
    },
    {
      "cell_type": "markdown",
      "source": [
        "### ㅁㄴ"
      ],
      "metadata": {
        "id": "GUvUIqZHQI5h"
      }
    },
    {
      "cell_type": "code",
      "source": [
        ""
      ],
      "metadata": {
        "id": "3XeAW_U6LKTw"
      },
      "execution_count": null,
      "outputs": []
    },
    {
      "cell_type": "markdown",
      "source": [
        "# Python Tree  5 - 5 [ 그래프 ]"
      ],
      "metadata": {
        "id": "CPFQUneanj7Z"
      }
    },
    {
      "cell_type": "markdown",
      "source": [
        ""
      ],
      "metadata": {
        "id": "sT3YBtA4eFUq"
      }
    },
    {
      "cell_type": "markdown",
      "source": [
        "# Python Tree  5 - 6 [ 시본 ]"
      ],
      "metadata": {
        "id": "w8lulNRPnkTp"
      }
    },
    {
      "cell_type": "markdown",
      "source": [
        "# Python Tree  6 - 1 [ ㅁ? ]\n",
        "\n",
        "> 들여쓴 블록\n",
        "\n"
      ],
      "metadata": {
        "id": "2xwmW70_nktS"
      }
    },
    {
      "cell_type": "code",
      "source": [
        "# libraries\n",
        "from mpl_toolkits.mplot3d import Axes3D\n",
        "import matplotlib.pyplot as plt\n",
        "import numpy as np\n",
        "import pandas as pd\n",
        "\n",
        "# Dataset\n",
        "df=pd.DataFrame({'X': range(1,101), 'Y': np.random.randn(100)*15+range(1,101), 'Z': (np.random.randn(100)*15+range(1,101))*2 })\n",
        "\n",
        "# plot\n",
        "fig = plt.figure()\n",
        "ax = fig.add_subplot(111, projection='3d')\n",
        "ax.scatter(df['X'], df['Y'], df['Z'], c='skyblue', s=60)\n",
        "ax.view_init(30, 185)\n",
        "plt.show()"
      ],
      "metadata": {
        "colab": {
          "base_uri": "https://localhost:8080/",
          "height": 466
        },
        "id": "-W2c0XQ6jsX3",
        "outputId": "a6ed8418-5485-48b5-a854-ff61afada104"
      },
      "execution_count": null,
      "outputs": [
        {
          "output_type": "display_data",
          "data": {
            "text/plain": [
              "<Figure size 864x576 with 1 Axes>"
            ],
            "image/png": "[encoded data removed]"
          },
          "metadata": {}
        }
      ]
    },
    {
      "cell_type": "code",
      "source": [
        "var data = [\n",
        "    {'id': 'AU.WA', 'value': 300},\n",
        "    {'id': 'AU.NS', 'value': 240},\n",
        "    {'id': 'AU.VI', 'value': 75}, \n",
        "    {'id': 'AU.NT', 'value': 130},\n",
        "    {'id': 'AU.TS', 'value': 190},\n",
        "    {'id': 'AU.CT'}\n",
        "];\n",
        "\t\t\t\n",
        "// set the fill for the regions you haven't defined in the dataSet\n",
        "map.unboundRegions().fill('#eee');"
      ],
      "metadata": {
        "colab": {
          "base_uri": "https://localhost:8080/",
          "height": 133
        },
        "id": "xNCTy3HktBOD",
        "outputId": "7427056f-a4be-45f4-ce24-bc2b6292e0b3"
      },
      "execution_count": null,
      "outputs": [
        {
          "output_type": "error",
          "ename": "SyntaxError",
          "evalue": "ignored",
          "traceback": [
            "\u001b[0;36m  File \u001b[0;32m\"<ipython-input-1-21655065173d>\"\u001b[0;36m, line \u001b[0;32m1\u001b[0m\n\u001b[0;31m    var data = [\u001b[0m\n\u001b[0m           ^\u001b[0m\n\u001b[0;31mSyntaxError\u001b[0m\u001b[0;31m:\u001b[0m invalid syntax\n"
          ]
        }
      ]
    },
    {
      "cell_type": "code",
      "source": [
        "\n",
        "\n",
        "graphic = {\n",
        "  const svg = d3.create(\"svg\")\n",
        "      .attr(\"viewBox\", [-0.53, -0.53, 1.06, 1.06])\n",
        "      .attr(\"stroke\", \"black\")\n",
        "      .attr(\"stroke-width\", 1 / 640)\n",
        "      .style(\"max-width\", \"640px\")\n",
        "      .style(\"display\", \"block\")\n",
        "      .style(\"margin\", \"auto\");\n",
        "\n",
        "  const frame = svg.append(\"g\");\n",
        "\n",
        "  const path = frame.selectAll(\"path\")\n",
        "    .data(gears)\n",
        "    .join(\"path\")\n",
        "      .attr(\"fill\", d => d.fill)\n",
        "      .attr(\"d\", gear);\n",
        "\n",
        "  return Object.assign(svg.node(), {\n",
        "    update(angle, frameAngle) {\n",
        "      path.attr(\"transform\", d => `translate(${d.origin}) rotate(${(angle / d.radius) % 360})`);\n",
        "      frame.attr(\"transform\", `rotate(${frameAngle % 360})`);\n",
        "    }\n",
        "  });\n",
        "}\n",
        "\n",
        "mutable angle = 0\n",
        "\n",
        "mutable frameAngle = 0\n",
        "\n",
        "update = {\n",
        "  while (true) {\n",
        "    yield graphic.update(\n",
        "      mutable angle += speed,\n",
        "      mutable frameAngle += speed / frameRadius\n",
        "    );\n",
        "  }\n",
        "}\n",
        "\n",
        "gears = [\n",
        "  {fill: \"#c6dbef\", teeth: 80, radius: -0.5, origin: [0, 0], annulus: true},\n",
        "  {fill: \"#6baed6\", teeth: 16, radius: +0.1, origin: [0, 0]},\n",
        "  {fill: \"#9ecae1\", teeth: 32, radius: -0.2, origin: [0, -0.3]},\n",
        "  {fill: \"#9ecae1\", teeth: 32, radius: -0.2, origin: [-0.3 * x, -0.3 * y]},\n",
        "  {fill: \"#9ecae1\", teeth: 32, radius: -0.2, origin: [0.3 * x, -0.3 * y]}\n",
        "]\n",
        "\n",
        "x = Math.sin(2 * Math.PI / 3)\n",
        "\n",
        "y = Math.cos(2 * Math.PI / 3)\n",
        "\n",
        "toothRadius = 0.008\n",
        "\n",
        "holeRadius = 0.02\n",
        "\n",
        "speed = 0.08\n",
        "\n",
        "function gear({teeth, radius, annulus}) {\n",
        "  const n = teeth;\n",
        "  let r2 = Math.abs(radius);\n",
        "  let r0 = r2 - toothRadius;\n",
        "  let r1 = r2 + toothRadius;\n",
        "  let r3 = holeRadius;\n",
        "  if (annulus) r3 = r0, r0 = r1, r1 = r3, r3 = r2 + toothRadius * 3;\n",
        "  const da = Math.PI / n;\n",
        "  let a0 = -Math.PI / 2 + (annulus ? Math.PI / n : 0);\n",
        "  const path = [\"M\", r0 * Math.cos(a0), \",\", r0 * Math.sin(a0)];\n",
        "  let i = -1;\n",
        "  while (++i < n) {\n",
        "    path.push(\n",
        "      \"A\", r0, \",\", r0, \" 0 0,1 \", r0 * Math.cos(a0 += da), \",\", r0 * Math.sin(a0),\n",
        "      \"L\", r2 * Math.cos(a0), \",\", r2 * Math.sin(a0),\n",
        "      \"L\", r1 * Math.cos(a0 += da / 3), \",\", r1 * Math.sin(a0),\n",
        "      \"A\", r1, \",\", r1, \" 0 0,1 \", r1 * Math.cos(a0 += da / 3), \",\", r1 * Math.sin(a0),\n",
        "      \"L\", r2 * Math.cos(a0 += da / 3), \",\", r2 * Math.sin(a0),\n",
        "      \"L\", r0 * Math.cos(a0), \",\", r0 * Math.sin(a0)\n",
        "    );\n",
        "  }\n",
        "  path.push(\"M0,\", -r3, \"A\", r3, \",\", r3, \" 0 0,0 0,\", r3, \"A\", r3, \",\", r3, \" 0 0,0 0,\", -r3, \"Z\");\n",
        "  return path.join(\"\");\n",
        "}\n",
        "\n",
        "d3 = require(\"d3@6\")"
      ],
      "metadata": {
        "colab": {
          "base_uri": "https://localhost:8080/",
          "height": 133
        },
        "id": "RY3Kxqs019tb",
        "outputId": "b2c6a07c-5989-49a8-eddc-988a46abb224"
      },
      "execution_count": null,
      "outputs": [
        {
          "output_type": "error",
          "ename": "SyntaxError",
          "evalue": "ignored",
          "traceback": [
            "\u001b[0;36m  File \u001b[0;32m\"<ipython-input-4-babf7cc3edb0>\"\u001b[0;36m, line \u001b[0;32m4\u001b[0m\n\u001b[0;31m    const svg = d3.create(\"svg\")\u001b[0m\n\u001b[0m            ^\u001b[0m\n\u001b[0;31mSyntaxError\u001b[0m\u001b[0;31m:\u001b[0m invalid syntax\n"
          ]
        }
      ]
    },
    {
      "cell_type": "code",
      "source": [
        ""
      ],
      "metadata": {
        "id": "VW8xPsgi5MVE"
      },
      "execution_count": null,
      "outputs": []
    }
  ]
}