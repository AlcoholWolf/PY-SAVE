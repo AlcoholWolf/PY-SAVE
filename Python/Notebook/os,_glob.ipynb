{
  "nbformat": 4,
  "nbformat_minor": 0,
  "metadata": {
    "colab": {
      "name": "os, glob",
      "private_outputs": true,
      "provenance": [],
      "collapsed_sections": []
    },
    "kernelspec": {
      "name": "python3",
      "display_name": "Python 3"
    },
    "language_info": {
      "name": "python"
    }
  },
  "cells": [
    {
      "cell_type": "code",
      "execution_count": null,
      "metadata": {
        "id": "FIA5fpSD0ip7"
      },
      "outputs": [],
      "source": [
        "#====================================================================================================================\n",
        "import os\n",
        "\n",
        "os.getcwd()         #: 현재 위치한 경로를 출력합니다.\n",
        "os.listdir()        #: 현재 위치의 파일이나 폴더를 리스트로 반환합니다.\n",
        "os.chdir(path)      #: `path` 로 이동합니다.\n",
        "\n",
        "os.chdir('/')       #: 최상위 폴더\n",
        "os.chdir('.')       #: 현재 경로를 나타냅니다.\n",
        "os.chdir('..')      #: 상위 폴더의 경로를 나타냅니다.\n",
        "\n",
        "#====================================================================================================================\n",
        "import glob\n",
        "\n",
        "# * `glob.glob(path)` : `path` 에 `해당하는` 폴더와 파일들의 `절대` 경로를 리스트로 반환합니다. os와 다르게 (파일 경로)/*(뒤에 붙는게 뭔지) 써주어야 합니다.\n",
        "list_g = glob.glob('/content/sample_data/*')    #*은 어떤것이던 불러오는것. *.csv하면 csv로 끝나는 모든 파일을 반환.\n",
        "list_o = os.listdir('/content/sample_data')     #os는 파일 경로 입력시 파일의 이름을 반환.\n",
        "print(list_g)\n",
        "print(list_o)\n",
        "\n",
        "\n",
        "#====================================================================================================================\n",
        "f = open(file_path)                             #: 해당 `file`을 엽니다.\n",
        "f = open(file_path, 'r')                        #: 읽기 모드로 엽니다.\n",
        "f = open(file_path, 'w')                        #: 쓰기 모드로 엽니다.\n",
        "\n",
        "f.close()                                       #: 파일을 닫습니다.\n",
        "\n",
        "\n",
        "#====================================================================================================================\n",
        "f = open(file_path, \"r\") #: 읽기모드로 열기\n",
        "contents = f.read()      #: contents에 f의 파일목록을 지정\n",
        "f.close()                #: 파일 닫기.\n",
        "\n",
        "print(type(contents))\n",
        "contents                 #: contents 출력\n",
        "\n",
        "#====================================================================================================================\n",
        "f = open(file_path, \"r\")        #읽기 모드로 열기\n",
        "lines = f.readlines()           #lines에 list형태로 파일 바인딩\n",
        "f.close()                       #파일 닫기\n",
        "\n",
        "print(type(lines), lines)       #출력\n",
        "\n",
        "\n",
        "f = open(file_path, \"r\")\n",
        "lines = f.readlines()\n",
        "for line in lines:              #라인즈 안의 수만큼 프린트: lines[:10] 처럼 슬라이싱 해서 원하는 만큼만 뽑기도 가능.\n",
        "  print(type(line), line)       #\n",
        "\n",
        "f.close()\n",
        "#====================================================================================================================\n",
        "\n",
        "f = open(file_path, \"r\")\n",
        "\n",
        "line = f.readline()\n",
        "print(type(line), line)\n",
        "line = f.readline()\n",
        "print(type(line), line)\n",
        "line = f.readline()\n",
        "print(type(line), line)\n",
        "\n",
        "\n",
        "f.close()\n",
        "#====================================================================================================================\n",
        "\n",
        "\n",
        "#===================================================================================================================="
      ]
    }
  ]
}