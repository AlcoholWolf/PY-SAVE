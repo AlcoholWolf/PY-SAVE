{
  "nbformat": 4,
  "nbformat_minor": 0,
  "metadata": {
    "colab": {
      "name": "Titanic",
      "provenance": [],
      "toc_visible": true,
      "authorship_tag": "ABX9TyMzGHXzpJ7rRw9sMZgLYM99",
      "include_colab_link": true
    },
    "kernelspec": {
      "name": "python3",
      "display_name": "Python 3"
    },
    "language_info": {
      "name": "python"
    }
  },
  "cells": [
    {
      "cell_type": "markdown",
      "metadata": {
        "id": "view-in-github",
        "colab_type": "text"
      },
      "source": [
        "<a href=\"https://colab.research.google.com/github/AlcoholWolf/PY-SAVE/blob/main/Titanic.ipynb\" target=\"_parent\"><img src=\"https://colab.research.google.com/assets/colab-badge.svg\" alt=\"Open In Colab\"/></a>"
      ]
    },
    {
      "cell_type": "markdown",
      "source": [
        "# Titanic"
      ],
      "metadata": {
        "id": "fnt89ZKwxR_1"
      }
    },
    {
      "cell_type": "markdown",
      "source": [
        "## Setting"
      ],
      "metadata": {
        "id": "grAJ7pK7xAvh"
      }
    },
    {
      "cell_type": "markdown",
      "source": [
        "### Setting ( Import, From, Greed )"
      ],
      "metadata": {
        "id": "7XQZj6OawvqQ"
      }
    },
    {
      "cell_type": "code",
      "execution_count": 137,
      "metadata": {
        "colab": {
          "base_uri": "https://localhost:8080/"
        },
        "id": "fjFQ3tuBGLKk",
        "outputId": "8586c886-0a29-4121-8f99-c207e64af382"
      },
      "outputs": [
        {
          "output_type": "stream",
          "name": "stdout",
          "text": [
            "Drive already mounted at /content/drive; to attempt to forcibly remount, call drive.mount(\"/content/drive\", force_remount=True).\n"
          ]
        }
      ],
      "source": [
        "from google.colab import drive\n",
        "drive.mount('/content/drive')\n",
        "import sys\n",
        "sys.path.append('/content/drive/MyDrive/Setting')\n",
        "from setting_import import *\n",
        "from setting_from import *"
      ]
    },
    {
      "cell_type": "markdown",
      "source": [
        "### Setting ( CSV Load )"
      ],
      "metadata": {
        "id": "kLTxh68qxsGf"
      }
    },
    {
      "cell_type": "code",
      "source": [
        "sys.path.append('/content/drive/MyDrive/py model')"
      ],
      "metadata": {
        "id": "6sBmeTq0GRqg"
      },
      "execution_count": 2,
      "outputs": []
    },
    {
      "cell_type": "markdown",
      "source": [
        "## def Set"
      ],
      "metadata": {
        "id": "MQcVYuflxl6X"
      }
    },
    {
      "cell_type": "markdown",
      "source": [
        "* '/content/drive/MyDrive/py model/titanyc/train.csv'"
      ],
      "metadata": {
        "id": "ckBQExjm1_q-"
      }
    },
    {
      "cell_type": "markdown",
      "source": [
        "### DrawReag( Data )"
      ],
      "metadata": {
        "id": "IjN5TEEJ3a4q"
      }
    },
    {
      "cell_type": "code",
      "source": [
        "def DrawReag(model, X, y, \n",
        "                            X_test=[], y_test=[], \n",
        "                            features=[], labels=[]): # 결정경계\n",
        "\n",
        "    colors = ('orangered', 'dodgerblue', 'limegreen', 'fuchsia', 'blueviolet')\n",
        "    cmap = ListedColormap(colors[:len(np.unique( y))])\n",
        "\n",
        "    x0mn, x0mx = X[:,0].min() -1, X[:,0].max() +1\n",
        "    x1mn, x1mx = X[:,1].min() -1, X[:,1].max() +1\n",
        "    x0 = np.arange(x0mn, x0mx, 0.02)\n",
        "    x1 = np.arange(x1mn, x1mx, 0.02)\n",
        "    print('* arange', x0.shape, x1.shape)\n",
        "    X0, X1 = np.meshgrid(x0, x1)\n",
        "    print('* meshgrid', x0.shape, x1.shape)\n",
        "    x0, x1 = X0.ravel(), X1.ravel()\n",
        "    print('* ravel', x0.shape, x1.shape)\n",
        "    x_every = np.array([x0, x1]).T\n",
        "    print('* every', x_every.shape)\n",
        "    y_pred = model.predict(x_every)\n",
        "    print('* y_pred', y_pred.shape)\n",
        "    Y_pred = y_pred.reshape(X0.shape)\n",
        "    print('* y_pred', y_pred.shape)\n",
        "\n",
        "    if not len(labels): labels=[i for i in range(len(np.unique(y)))]\n",
        "    plt.contourf(X0, X1, Y_pred, alpha=0.4, cmap=cmap )\n",
        "    for idx, c in enumerate(np.unique(y)):\n",
        "        plt.scatter(x = X[y == c, 0], \n",
        "                    y = X[y == c, 1],\n",
        "                    alpha=0.8,\n",
        "                    c=colors[idx],\n",
        "                    label=labels[idx],\n",
        "                    marker='x',\n",
        "                    linewidth=2)\n",
        "    if len(X_test):\n",
        "        for idx, c in enumerate(np.unique(y_test)):\n",
        "            plt.scatter(x = X_test[y_test == c, 0], \n",
        "                        y = X_test[y_test == c, 1],\n",
        "                        alpha=0.8,\n",
        "                        c=colors[idx],\n",
        "                        marker='o',\n",
        "                        edgecolor='k',\n",
        "                        linewidth=2)\n",
        "    \n",
        "    if features:\n",
        "        plt.xlabel(features[0])\n",
        "        plt.ylabel(features[1])\n",
        "    plt.legend()"
      ],
      "metadata": {
        "id": "rfeOQ37I3anO"
      },
      "execution_count": 164,
      "outputs": []
    },
    {
      "cell_type": "markdown",
      "source": [
        "### DataLoad( CSV )"
      ],
      "metadata": {
        "id": "OPwyEcHiytLn"
      }
    },
    {
      "cell_type": "code",
      "source": [
        "def DataLoad(CSV):\n",
        "\n",
        "    # Titanic 데이터셋 불러오기\n",
        "    Dataset = pd.read_csv(CSV)\n",
        "    return Dataset"
      ],
      "metadata": {
        "id": "6U0778HGy6mG"
      },
      "execution_count": 195,
      "outputs": []
    },
    {
      "cell_type": "markdown",
      "source": [
        "### DataSet ( DataLoad ) "
      ],
      "metadata": {
        "id": "CeRaniLUxJ_I"
      }
    },
    {
      "cell_type": "code",
      "source": [
        "def DataSet(Titanic):\n",
        "\n",
        "    # Nan값 삭제 Axis=0\n",
        "    Titanic = Titanic.dropna(axis=0)\n",
        "\n",
        "    # 가족 수, 동반자 또는 연인 수 합치기\n",
        "    Pair, Family = Titanic.loc[:, 'SibSp' ].values, Titanic.loc[:, 'Parch' ].values\n",
        "    for P_F in range(len(Titanic)):\n",
        "        Pair[P_F] += Family[P_F]\n",
        "\n",
        "    # 탑승 구역 인트로 변환\n",
        "    InTitnyc = Titanic.loc[:, 'Embarked' ].values\n",
        "    InTitnyc[InTitnyc == 'Q' ] = 0.0\n",
        "    InTitnyc[InTitnyc == 'C' ] = 1.0\n",
        "    InTitnyc[InTitnyc == 'S' ] = 2.0\n",
        "\n",
        "    SexTitnyc = Titanic.loc[:, 'Sex' ].values\n",
        "    SexTitnyc[SexTitnyc == 'female' ] = 0.0\n",
        "    SexTitnyc[SexTitnyc == 'male' ] = 1.0\n",
        "    \n",
        "\n",
        "    # 필요 없는 칼럼 버리기 Axis=1\n",
        "    for DropColumns in ['PassengerId', 'Name', 'Ticket', 'Cabin', 'Parch']:\n",
        "        Titanic = Titanic.drop(DropColumns, axis=1)\n",
        "\n",
        "    # # Death 버리기\n",
        "    # DeathMask = Titanic['Survived'] == 0\n",
        "    # Titanic[DeathMask] = float('NaN')\n",
        "\n",
        "    # Nan값 삭제 Axis=0\n",
        "    Titanic = Titanic.dropna(axis=0)\n",
        "\n",
        "    # Index 재 정렬\n",
        "    Titanic.index = np.arange(1, (len(Titanic)+1))\n",
        "\n",
        "    # 소수 버리기\n",
        "    for CoIDX in ['Survived', 'Pclass', 'Age', 'SibSp', 'Fare', 'Embarked']:\n",
        "        for IDX in range(len(Titanic)):\n",
        "            Titanic.loc[IDX+1, CoIDX] = int(Titanic.loc[IDX+1, CoIDX])\n",
        "\n",
        "    # 칼럼 명 변경\n",
        "    Titanic.columns = ['Alive', 'Class', 'Sex', 'Age', 'Pair', 'Ticket', 'Check_In']\n",
        "\n",
        "    # 출력\n",
        "    return Titanic"
      ],
      "metadata": {
        "id": "-i5kPgvxGbpS"
      },
      "execution_count": 232,
      "outputs": []
    },
    {
      "cell_type": "markdown",
      "source": [
        "### DataFit( DataSet )"
      ],
      "metadata": {
        "id": "4UJ_Bd6XzPKH"
      }
    },
    {
      "cell_type": "code",
      "source": [
        "DS = DataLoad('/content/drive/MyDrive/py model/titanyc/train.csv')\n",
        "\n",
        "DataSet(DS)"
      ],
      "metadata": {
        "colab": {
          "base_uri": "https://localhost:8080/",
          "height": 423
        },
        "id": "sGaYCCkqCVsa",
        "outputId": "513e3612-1977-41f4-8083-11f1a0af717c"
      },
      "execution_count": 233,
      "outputs": [
        {
          "output_type": "execute_result",
          "data": {
            "text/plain": [
              "     Alive  Class  Sex   Age  Pair  Ticket Check_In\n",
              "1        1      1  0.0  38.0     1    71.0        1\n",
              "2        1      1  0.0  35.0     1    53.0        2\n",
              "3        0      1  1.0  54.0     0    51.0        2\n",
              "4        1      3  0.0   4.0     2    16.0        2\n",
              "5        1      1  0.0  58.0     0    26.0        2\n",
              "..     ...    ...  ...   ...   ...     ...      ...\n",
              "179      1      1  0.0  47.0     2    52.0        2\n",
              "180      0      1  1.0  33.0     0     5.0        2\n",
              "181      1      1  0.0  56.0     1    83.0        1\n",
              "182      1      1  0.0  19.0     0    30.0        2\n",
              "183      1      1  1.0  26.0     0    30.0        1\n",
              "\n",
              "[183 rows x 7 columns]"
            ],
            "text/html": [
              "\n",
              "  <div id=\"df-9631ad69-ff34-4c52-946e-0a6ca3638d1c\">\n",
              "    <div class=\"colab-df-container\">\n",
              "      <div>\n",
              "<style scoped>\n",
              "    .dataframe tbody tr th:only-of-type {\n",
              "        vertical-align: middle;\n",
              "    }\n",
              "\n",
              "    .dataframe tbody tr th {\n",
              "        vertical-align: top;\n",
              "    }\n",
              "\n",
              "    .dataframe thead th {\n",
              "        text-align: right;\n",
              "    }\n",
              "</style>\n",
              "<table border=\"1\" class=\"dataframe\">\n",
              "  <thead>\n",
              "    <tr style=\"text-align: right;\">\n",
              "      <th></th>\n",
              "      <th>Alive</th>\n",
              "      <th>Class</th>\n",
              "      <th>Sex</th>\n",
              "      <th>Age</th>\n",
              "      <th>Pair</th>\n",
              "      <th>Ticket</th>\n",
              "      <th>Check_In</th>\n",
              "    </tr>\n",
              "  </thead>\n",
              "  <tbody>\n",
              "    <tr>\n",
              "      <th>1</th>\n",
              "      <td>1</td>\n",
              "      <td>1</td>\n",
              "      <td>0.0</td>\n",
              "      <td>38.0</td>\n",
              "      <td>1</td>\n",
              "      <td>71.0</td>\n",
              "      <td>1</td>\n",
              "    </tr>\n",
              "    <tr>\n",
              "      <th>2</th>\n",
              "      <td>1</td>\n",
              "      <td>1</td>\n",
              "      <td>0.0</td>\n",
              "      <td>35.0</td>\n",
              "      <td>1</td>\n",
              "      <td>53.0</td>\n",
              "      <td>2</td>\n",
              "    </tr>\n",
              "    <tr>\n",
              "      <th>3</th>\n",
              "      <td>0</td>\n",
              "      <td>1</td>\n",
              "      <td>1.0</td>\n",
              "      <td>54.0</td>\n",
              "      <td>0</td>\n",
              "      <td>51.0</td>\n",
              "      <td>2</td>\n",
              "    </tr>\n",
              "    <tr>\n",
              "      <th>4</th>\n",
              "      <td>1</td>\n",
              "      <td>3</td>\n",
              "      <td>0.0</td>\n",
              "      <td>4.0</td>\n",
              "      <td>2</td>\n",
              "      <td>16.0</td>\n",
              "      <td>2</td>\n",
              "    </tr>\n",
              "    <tr>\n",
              "      <th>5</th>\n",
              "      <td>1</td>\n",
              "      <td>1</td>\n",
              "      <td>0.0</td>\n",
              "      <td>58.0</td>\n",
              "      <td>0</td>\n",
              "      <td>26.0</td>\n",
              "      <td>2</td>\n",
              "    </tr>\n",
              "    <tr>\n",
              "      <th>...</th>\n",
              "      <td>...</td>\n",
              "      <td>...</td>\n",
              "      <td>...</td>\n",
              "      <td>...</td>\n",
              "      <td>...</td>\n",
              "      <td>...</td>\n",
              "      <td>...</td>\n",
              "    </tr>\n",
              "    <tr>\n",
              "      <th>179</th>\n",
              "      <td>1</td>\n",
              "      <td>1</td>\n",
              "      <td>0.0</td>\n",
              "      <td>47.0</td>\n",
              "      <td>2</td>\n",
              "      <td>52.0</td>\n",
              "      <td>2</td>\n",
              "    </tr>\n",
              "    <tr>\n",
              "      <th>180</th>\n",
              "      <td>0</td>\n",
              "      <td>1</td>\n",
              "      <td>1.0</td>\n",
              "      <td>33.0</td>\n",
              "      <td>0</td>\n",
              "      <td>5.0</td>\n",
              "      <td>2</td>\n",
              "    </tr>\n",
              "    <tr>\n",
              "      <th>181</th>\n",
              "      <td>1</td>\n",
              "      <td>1</td>\n",
              "      <td>0.0</td>\n",
              "      <td>56.0</td>\n",
              "      <td>1</td>\n",
              "      <td>83.0</td>\n",
              "      <td>1</td>\n",
              "    </tr>\n",
              "    <tr>\n",
              "      <th>182</th>\n",
              "      <td>1</td>\n",
              "      <td>1</td>\n",
              "      <td>0.0</td>\n",
              "      <td>19.0</td>\n",
              "      <td>0</td>\n",
              "      <td>30.0</td>\n",
              "      <td>2</td>\n",
              "    </tr>\n",
              "    <tr>\n",
              "      <th>183</th>\n",
              "      <td>1</td>\n",
              "      <td>1</td>\n",
              "      <td>1.0</td>\n",
              "      <td>26.0</td>\n",
              "      <td>0</td>\n",
              "      <td>30.0</td>\n",
              "      <td>1</td>\n",
              "    </tr>\n",
              "  </tbody>\n",
              "</table>\n",
              "<p>183 rows × 7 columns</p>\n",
              "</div>\n",
              "      <button class=\"colab-df-convert\" onclick=\"convertToInteractive('df-9631ad69-ff34-4c52-946e-0a6ca3638d1c')\"\n",
              "              title=\"Convert this dataframe to an interactive table.\"\n",
              "              style=\"display:none;\">\n",
              "        \n",
              "  <svg xmlns=\"http://www.w3.org/2000/svg\" height=\"24px\"viewBox=\"0 0 24 24\"\n",
              "       width=\"24px\">\n",
              "    <path d=\"M0 0h24v24H0V0z\" fill=\"none\"/>\n",
              "    <path d=\"M18.56 5.44l.94 2.06.94-2.06 2.06-.94-2.06-.94-.94-2.06-.94 2.06-2.06.94zm-11 1L8.5 8.5l.94-2.06 2.06-.94-2.06-.94L8.5 2.5l-.94 2.06-2.06.94zm10 10l.94 2.06.94-2.06 2.06-.94-2.06-.94-.94-2.06-.94 2.06-2.06.94z\"/><path d=\"M17.41 7.96l-1.37-1.37c-.4-.4-.92-.59-1.43-.59-.52 0-1.04.2-1.43.59L10.3 9.45l-7.72 7.72c-.78.78-.78 2.05 0 2.83L4 21.41c.39.39.9.59 1.41.59.51 0 1.02-.2 1.41-.59l7.78-7.78 2.81-2.81c.8-.78.8-2.07 0-2.86zM5.41 20L4 18.59l7.72-7.72 1.47 1.35L5.41 20z\"/>\n",
              "  </svg>\n",
              "      </button>\n",
              "      \n",
              "  <style>\n",
              "    .colab-df-container {\n",
              "      display:flex;\n",
              "      flex-wrap:wrap;\n",
              "      gap: 12px;\n",
              "    }\n",
              "\n",
              "    .colab-df-convert {\n",
              "      background-color: #E8F0FE;\n",
              "      border: none;\n",
              "      border-radius: 50%;\n",
              "      cursor: pointer;\n",
              "      display: none;\n",
              "      fill: #1967D2;\n",
              "      height: 32px;\n",
              "      padding: 0 0 0 0;\n",
              "      width: 32px;\n",
              "    }\n",
              "\n",
              "    .colab-df-convert:hover {\n",
              "      background-color: #E2EBFA;\n",
              "      box-shadow: 0px 1px 2px rgba(60, 64, 67, 0.3), 0px 1px 3px 1px rgba(60, 64, 67, 0.15);\n",
              "      fill: #174EA6;\n",
              "    }\n",
              "\n",
              "    [theme=dark] .colab-df-convert {\n",
              "      background-color: #3B4455;\n",
              "      fill: #D2E3FC;\n",
              "    }\n",
              "\n",
              "    [theme=dark] .colab-df-convert:hover {\n",
              "      background-color: #434B5C;\n",
              "      box-shadow: 0px 1px 3px 1px rgba(0, 0, 0, 0.15);\n",
              "      filter: drop-shadow(0px 1px 2px rgba(0, 0, 0, 0.3));\n",
              "      fill: #FFFFFF;\n",
              "    }\n",
              "  </style>\n",
              "\n",
              "      <script>\n",
              "        const buttonEl =\n",
              "          document.querySelector('#df-9631ad69-ff34-4c52-946e-0a6ca3638d1c button.colab-df-convert');\n",
              "        buttonEl.style.display =\n",
              "          google.colab.kernel.accessAllowed ? 'block' : 'none';\n",
              "\n",
              "        async function convertToInteractive(key) {\n",
              "          const element = document.querySelector('#df-9631ad69-ff34-4c52-946e-0a6ca3638d1c');\n",
              "          const dataTable =\n",
              "            await google.colab.kernel.invokeFunction('convertToInteractive',\n",
              "                                                     [key], {});\n",
              "          if (!dataTable) return;\n",
              "\n",
              "          const docLinkHtml = 'Like what you see? Visit the ' +\n",
              "            '<a target=\"_blank\" href=https://colab.research.google.com/notebooks/data_table.ipynb>data table notebook</a>'\n",
              "            + ' to learn more about interactive tables.';\n",
              "          element.innerHTML = '';\n",
              "          dataTable['output_type'] = 'display_data';\n",
              "          await google.colab.output.renderOutput(dataTable, element);\n",
              "          const docLink = document.createElement('div');\n",
              "          docLink.innerHTML = docLinkHtml;\n",
              "          element.appendChild(docLink);\n",
              "        }\n",
              "      </script>\n",
              "    </div>\n",
              "  </div>\n",
              "  "
            ]
          },
          "metadata": {},
          "execution_count": 233
        }
      ]
    },
    {
      "cell_type": "code",
      "source": [
        "DS = DataLoad('/content/drive/MyDrive/py model/titanyc/train.csv')\n",
        "\n",
        "df = DataSet(DS)\n",
        "\n",
        "X = df.loc[:, 'Age':'Pair' ].values\n",
        "y = df.loc[:,'Alive'].values\n",
        "labels = ['Death', 'Alive']\n",
        "y = np.array(y, dtype='int') # 인트로 변환\n",
        "\n",
        "X_train, X_test, y_train, y_test = train_test_split(X, y,               # Train, Test로 분할, 쉐이프 확인\n",
        "                                                    test_size=0.2,                      # Train, Test로 분할, 쉐이프 확인\n",
        "                                                    random_state=1)                # Train, Test로 분할, 쉐이프 확인\n",
        "X_train.shape, y_train.shape, X_test.shape, y_test.shape        # Train, Test로 분할, 쉐이프 확인\n",
        "\n",
        "def draw_cm(model, X, y, labels, title=''): # 함수 지정\n",
        "    y_pred = model.predict(X) # 학습?\n",
        "    cm = confusion_matrix(y, y_pred) # 혼돈 행렬\n",
        "    ConfusionMatrixDisplay(cm, display_labels=labels).plot(cmap='Blues') # 그림그리기\n",
        "    if title: plt.title(title) # 타이틀 = 타이틀\n",
        "\n",
        "model = DecisionTreeClassifier(criterion='gini', # gini로 최적화\n",
        "                                                  max_depth=5\n",
        "                                                  )\n",
        "model.fit(X_train[:,:2], y_train) # 학습 1트\n",
        "\n",
        "model = SVC(kernel='linear', random_state=1) # SVC로 최적화\n",
        "model.fit(X_train, y_train) # 학습\n",
        "\n",
        "\n",
        "acc = model.score(X_test[:,:2], y_test) # 성공 계산\n",
        "draw_cm(model, X_test[:,:2], y_test, labels, title=f'Acc:{np.round(acc,2)}') # 성공 출력\n",
        "plt.show() # 출력\n",
        "\n",
        "model = DecisionTreeClassifier(criterion='gini', # gini로 최적화\n",
        "                                                  max_depth=5\n",
        "                                                  )\n",
        "model.fit(X_train[:,:2], y_train) # 학습 2트\n",
        "\n",
        "acc = model.score(X_test[:,:2], y_test) # 성공 계산\n",
        "draw_cm(model, X_test[:,:2], y_test, labels, title=f'Acc:{np.round(acc,2)}') # 성공 출력\n",
        "plt.show() # 출력\n",
        "\n",
        "# plt.figure(figsize=(12,8)) # 12대8로 출력판\n",
        "# plot_tree(model) # 트리그래프\n",
        "# plt.show() # 출력\n",
        "\n",
        "# DrawReag(model, X_train[:,:2], y_train, # 추울력(점유맵)\n",
        "#                                     X_test[:,:2], y_test,\n",
        "#                                     features=['Age','Pair'],\n",
        "#                                     labels=labels\n",
        "#                                     )\n",
        "# plt.show() # 출력"
      ],
      "metadata": {
        "colab": {
          "base_uri": "https://localhost:8080/",
          "height": 573
        },
        "id": "hd8crTRRYuIx",
        "outputId": "957ea0a5-ba95-48d0-be7c-9528efd8dcfd"
      },
      "execution_count": 235,
      "outputs": [
        {
          "output_type": "display_data",
          "data": {
            "text/plain": [
              "<Figure size 432x288 with 2 Axes>"
            ],
            "image/png": "[encoded data removed]"
          },
          "metadata": {
            "needs_background": "dark"
          }
        },
        {
          "output_type": "display_data",
          "data": {
            "text/plain": [
              "<Figure size 432x288 with 2 Axes>"
            ],
            "image/png": "[encoded data removed]"
          },
          "metadata": {
            "needs_background": "dark"
          }
        }
      ]
    },
    {
      "cell_type": "code",
      "source": [
        "def draw(loaderint=3, loaderstr='sepal', chaosstr='gini', maxdepth=3, TRE=True, DEC=True, ACC=True):\n",
        "\n",
        "    X_train, X_test, y_train, y_test, columns, labels = iris_loader(loaderint, loaderstr) \n",
        "    \n",
        "    model = DecisionTreeClassifier(criterion=chaosstr, \n",
        "                                max_depth=maxdepth)\n",
        "    model.fit(X_train, y_train)\n",
        "\n",
        "    if ACC:\n",
        "        acc = model.score(X_test, y_test)\n",
        "        draw_cm(model, X_test, y_test, title=f'Acc:{np.round(acc, 2)}')\n",
        "        plt.show()\n",
        "\n",
        "    if DEC:\n",
        "        draw_decision_region(model, X_train, y_train,\n",
        "                    X_test, y_test,\n",
        "                    features=columns,\n",
        "                    labels=labels)\n",
        "        plt.show()\n",
        "\n",
        "    if TRE:\n",
        "        plt.figure(figsize=(12,8))\n",
        "        plot_tree(model)\n",
        "        plt.show()"
      ],
      "metadata": {
        "id": "TokWYdl2G7LX"
      },
      "execution_count": null,
      "outputs": []
    }
  ]
}