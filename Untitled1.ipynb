{
  "nbformat": 4,
  "nbformat_minor": 0,
  "metadata": {
    "colab": {
      "name": "Untitled1.ipynb",
      "private_outputs": true,
      "provenance": [],
      "collapsed_sections": [],
      "authorship_tag": "ABX9TyO9dzmOg4txLyr/NYl1BVJX",
      "include_colab_link": true
    },
    "kernelspec": {
      "name": "python3",
      "display_name": "Python 3"
    },
    "language_info": {
      "name": "python"
    }
  },
  "cells": [
    {
      "cell_type": "markdown",
      "metadata": {
        "id": "view-in-github",
        "colab_type": "text"
      },
      "source": [
        "<a href=\"https://colab.research.google.com/github/AlcoholWolf/PY-SAVE/blob/main/Untitled1.ipynb\" target=\"_parent\"><img src=\"https://colab.research.google.com/assets/colab-badge.svg\" alt=\"Open In Colab\"/></a>"
      ]
    },
    {
      "cell_type": "code",
      "execution_count": null,
      "metadata": {
        "id": "YS0IMkrPPP1p"
      },
      "outputs": [],
      "source": [
        "import numpy as np\n",
        "import matplotlib.pyplot as plt\n",
        "plt.rcParams['font.size'] = 15\n",
        "plt.rcParams['xtick.labelsize'] = 8\n",
        "plt.rcParams['ytick.labelsize'] = 8\n",
        "plt.rcParams['image.cmap'] = 'rainbow'\n",
        "plt.style.use('dark_background')\n",
        "\n",
        "def XS(min, max, limit): # ys\n",
        "    xs = np.linspace(min,max,limit)\n",
        "    return xs\n",
        "\n",
        "def Skal_Skal(x): # f(x)=x^2+2x+1\n",
        "    fx = (x**2)+(2*x)+1\n",
        "    return fx\n",
        "\n",
        "def Skal_Skal_Cos(x): # f(x) = cosin(x)\n",
        "    fx = np.cos(x)\n",
        "    return fx\n",
        "\n",
        "def Vet_Skal(x, y): # f(x) = x + y\n",
        "    fx = x + y\n",
        "    return fx\n",
        "\n",
        "def Vet_Skal_Duble(x, y): # f(x) = (x-5)^2 + (y-5)^2\n",
        "    fx = (x-5)**2 + (y-5)**2\n",
        "    return fx\n",
        "\n",
        "def Vet_Skal_Beta(x, y): # fx = 50(y-x^2)^2+(2-x)^2\n",
        "    fx = 50*(y-(x**2))**2+(2-x)**2\n",
        "    return fx\n",
        "\n",
        "def Skal_Vet_Out2(x): # 일변수 벡터\n",
        "    fx1, fx2 = np.array([x**2 , 5*x])\n",
        "    return fx1, fx2\n",
        "\n",
        "def Skal_Vet_Out3(x): # 다변수 벡터\n",
        "    fx = np.array([np.sin(6*x), 1/4*x, x**2/2])\n",
        "    return fx\n",
        "\n",
        "def Cos_Sin(x): #\n",
        "    return np.array([np.cos(x), np.sin(x), x])\n",
        "\n",
        "def Vet_Out3(x, y): #\n",
        "    return np.array([x**2, y**2, x*y])\n",
        "\n",
        "def Vet_UV_Out3(u, v): #\n",
        "    return np.array([u, v, 1+u**2+v/(1+v**2)])\n",
        "\n",
        "def Plt_OneByDef_Big_2D(XSdata, DefSelact, MinScatTrueFalse): # Comple--------------------------------------------------------------------------------------------------------------------------------\n",
        "    fig, ax = plt.subplots(1)\n",
        "    ax.plot(XSdata, DefSelact(XSdata))\n",
        "    \n",
        "    ax.set_title(f'def 2D')\n",
        "    ax.set_xlabel('x')\n",
        "    ax.set_ylabel('y')\n",
        "\n",
        "    if tf:\n",
        "        x = -1\n",
        "        ax.plot(x, Defdata(x), marker='o', c='r')\n",
        "        ax.text(x, Defdata(x), f'({x} . {np.round(Defdata(x),2)})')\n",
        "\n",
        "    return plt.show()\n",
        "\n",
        "def Plt_OneByDef_Vet_2D(XSdata, DefSelact): # -------------------------------------------------------------------------------------------------------------------------\n",
        "    fig, ax = plt.subplots(1)\n",
        "\n",
        "    ax.plot(DefSelact(XSdata)[1], DefSelact(XSdata)[0])\n",
        "    ax.set_title('$f(x)$ space')\n",
        "    ax.set_xlabel('$g(x)$')\n",
        "    ax.set_ylabel('$h(x)$')\n",
        "\n",
        "    scat = ax.scatter(DefSelact(XSdata)[1],DefSelact(XSdata)[0], c=x, cmap='rainbow')\n",
        "    fig.colorbar(scat)\n",
        "\n",
        "    return plt.show()\n",
        "\n",
        "def Plt_TwoByDef_Big_3D(XSdata, YSdata, DefSelact): # -----------------------------------------------------------------------------------------\n",
        "    x, y = np.meshgrid(XSdata, YSdata)\n",
        "\n",
        "    fig = plt.figure(figsize=(9, 7))\n",
        "    ax = plt.axes(projection='3d')\n",
        "    ax.scatter3D(x, y, DefSelact(x, y), c='white', s=60)\n",
        "    CF = ax.plot_surface(x, y, DefSelact(x, y), cmap='rainbow')\n",
        "    \n",
        "    ax.set_title(f'def 3D')\n",
        "    ax.set_xlabel('x')\n",
        "    ax.set_ylabel('y')\n",
        "    ax.set_zlabel('z')\n",
        "\n",
        "    # x = -1\n",
        "    # ax.plot(x, s(x), marker='o', c='r')\n",
        "    # ax.text(x, s(x), f'({x} . {np.round(s(x),2)})')\n",
        "    \n",
        "    # fig.colorbar(CF, label='CMAP', shrink=0.8)\n",
        "\n",
        "    return plt.show()\n",
        "\n",
        "def Plt_TwoByDef_Vet_3D(XSdata, DefSelact):#-------------------------------------------------------------------------------------------------\n",
        "    xs, ys, zs = DefSelact(XSdata)\n",
        "    fig = plt.figure(figsize=(10,7))\n",
        "    ax = plt.axes(projection='3d')\n",
        "    scat = ax.scatter3D(xs, ys, zs, c=XSdata, marker='o', cmap='rainbow')\n",
        "\n",
        "    ax.set_title('$f(t)$ space')\n",
        "    ax.set_xlabel('$x(t)$')\n",
        "    ax.set_ylabel('$y(t)$')\n",
        "    ax.set_zlabel('$z(t)$')\n",
        "    fig.colorbar(scat, shrink=.6, label='ts')\n",
        "    return plt.show()\n",
        "\n",
        "def Plt_TwoByDef_Vet_3D_Mesh(XSdata, YSdata, DefSelact):#-----------------------------------------------------------------------------\n",
        "    X, Y = np.meshgrid(YSdata, XSdata)\n",
        "    Fs = DefSelact(X, Y)\n",
        "    fig = plt.figure(figsize=(10,7))\n",
        "    ax = plt.axes(projection='3d')\n",
        "    ax.scatter3D(Fs[0], Fs[1], Fs[2], marker='.')\n",
        "    return plt.show()"
      ]
    },
    {
      "cell_type": "code",
      "source": [
        "Plt_OneByDef_Big_2D(XS(-10,10,100), OSK, False)"
      ],
      "metadata": {
        "id": "kzjaBPlPPUHO"
      },
      "execution_count": null,
      "outputs": []
    },
    {
      "cell_type": "code",
      "source": [
        ""
      ],
      "metadata": {
        "id": "YKvv_3clR19l"
      },
      "execution_count": null,
      "outputs": []
    }
  ]
}